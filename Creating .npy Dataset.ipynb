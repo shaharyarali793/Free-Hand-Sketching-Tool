{
 "cells": [
  {
   "cell_type": "markdown",
   "id": "6dc2a0de",
   "metadata": {},
   "source": [
    "# Renaming Folder File Name"
   ]
  },
  {
   "cell_type": "code",
   "execution_count": 32,
   "id": "17e8a4e4",
   "metadata": {},
   "outputs": [
    {
     "name": "stdout",
     "output_type": "stream",
     "text": [
      "success\n"
     ]
    }
   ],
   "source": [
    "import os\n",
    "new_name = 'eye'\n",
    "path = r'C:\\Users\\Shaheryar Ali\\Desktop\\Free Hand Sketching Tool\\static\\eye_doodle_dataset'\n",
    "files = os.listdir(path)\n",
    "\n",
    "\n",
    "for index, file in enumerate(files):\n",
    "    os.rename(os.path.join(path, file), os.path.join(path, ''.join([new_name+'-'+str(index), '.png'])))\n",
    "print('success')"
   ]
  },
  {
   "cell_type": "markdown",
   "id": "14834bf8",
   "metadata": {},
   "source": [
    "# Folder and File Information"
   ]
  },
  {
   "cell_type": "code",
   "execution_count": 24,
   "id": "ad5c5b2c",
   "metadata": {},
   "outputs": [],
   "source": [
    "folder_name = r'C:\\Users\\Shaheryar Ali\\Desktop\\Dataset\\Eye Training Images'\n",
    "file_name = 'eye'\n",
    "dataset_file_name = 'eye_bw_minist_dataset'"
   ]
  },
  {
   "cell_type": "markdown",
   "id": "69ff3474",
   "metadata": {},
   "source": [
    "# Find total file in the directory"
   ]
  },
  {
   "cell_type": "code",
   "execution_count": 25,
   "id": "a9dcc118",
   "metadata": {},
   "outputs": [
    {
     "data": {
      "text/plain": [
       "100"
      ]
     },
     "execution_count": 25,
     "metadata": {},
     "output_type": "execute_result"
    }
   ],
   "source": [
    "import os\n",
    "\n",
    "path, dirs, files = next(os.walk(folder_name))\n",
    "folder = len(files)\n",
    "folder"
   ]
  },
  {
   "cell_type": "markdown",
   "id": "5d267554",
   "metadata": {},
   "source": [
    "# Convert Image to Numpy Array"
   ]
  },
  {
   "cell_type": "code",
   "execution_count": 26,
   "id": "f51da800",
   "metadata": {},
   "outputs": [
    {
     "name": "stdout",
     "output_type": "stream",
     "text": [
      "(784,) 0\n",
      "(784,) 1\n",
      "(784,) 2\n",
      "(784,) 3\n",
      "(784,) 4\n",
      "(784,) 5\n",
      "(784,) 6\n",
      "(784,) 7\n",
      "(784,) 8\n",
      "(784,) 9\n",
      "(784,) 10\n",
      "(784,) 11\n",
      "(784,) 12\n",
      "(784,) 13\n",
      "(784,) 14\n",
      "(784,) 15\n",
      "(784,) 16\n",
      "(784,) 17\n",
      "(784,) 18\n",
      "(784,) 19\n",
      "(784,) 20\n",
      "(784,) 21\n",
      "(784,) 22\n",
      "(784,) 23\n",
      "(784,) 24\n",
      "(784,) 25\n",
      "(784,) 26\n",
      "(784,) 27\n",
      "(784,) 28\n",
      "(784,) 29\n",
      "(784,) 30\n",
      "(784,) 31\n",
      "(784,) 32\n",
      "(784,) 33\n",
      "(784,) 34\n",
      "(784,) 35\n",
      "(784,) 36\n",
      "(784,) 37\n",
      "(784,) 38\n",
      "(784,) 39\n",
      "(784,) 40\n",
      "(784,) 41\n",
      "(784,) 42\n",
      "(784,) 43\n",
      "(784,) 44\n",
      "(784,) 45\n",
      "(784,) 46\n",
      "(784,) 47\n",
      "(784,) 48\n",
      "(784,) 49\n",
      "(784,) 50\n",
      "(784,) 51\n",
      "(784,) 52\n",
      "(784,) 53\n",
      "(784,) 54\n",
      "(784,) 55\n",
      "(784,) 56\n",
      "(784,) 57\n",
      "(784,) 58\n",
      "(784,) 59\n",
      "(784,) 60\n",
      "(784,) 61\n",
      "(784,) 62\n",
      "(784,) 63\n",
      "(784,) 64\n",
      "(784,) 65\n",
      "(784,) 66\n",
      "(784,) 67\n",
      "(784,) 68\n",
      "(784,) 69\n",
      "(784,) 70\n",
      "(784,) 71\n",
      "(784,) 72\n",
      "(784,) 73\n",
      "(784,) 74\n",
      "(784,) 75\n",
      "(784,) 76\n",
      "(784,) 77\n",
      "(784,) 78\n",
      "(784,) 79\n",
      "(784,) 80\n",
      "(784,) 81\n",
      "(784,) 82\n",
      "(784,) 83\n",
      "(784,) 84\n",
      "(784,) 85\n",
      "(784,) 86\n",
      "(784,) 87\n",
      "(784,) 88\n",
      "(784,) 89\n",
      "(784,) 90\n",
      "(784,) 91\n",
      "(784,) 92\n",
      "(784,) 93\n",
      "(784,) 94\n",
      "(784,) 95\n",
      "(784,) 96\n",
      "(784,) 97\n",
      "(784,) 98\n",
      "(784,) 99\n"
     ]
    }
   ],
   "source": [
    "import numpy as np\n",
    "from PIL import Image\n",
    "\n",
    "data = []\n",
    "i = 0\n",
    "for items in range(folder):\n",
    "    img = Image.open(f\"{folder_name}\\{file_name}-{items}.png\").convert('RGBA')\n",
    "    arr = np.array(img)\n",
    "\n",
    "    # record the original shape\n",
    "    shape = arr.shape\n",
    "\n",
    "    # make a 1-dimensional view of arr\n",
    "    flat_arr = arr.ravel()\n",
    "    print(flat_arr.shape,i)\n",
    "    data.append(flat_arr)\n",
    "    i = i +1 "
   ]
  },
  {
   "cell_type": "markdown",
   "id": "f3c308d7",
   "metadata": {},
   "source": [
    "# Creating .npy Dataset File "
   ]
  },
  {
   "cell_type": "code",
   "execution_count": 27,
   "id": "068d4fc7",
   "metadata": {},
   "outputs": [
    {
     "name": "stdout",
     "output_type": "stream",
     "text": [
      "success\n"
     ]
    }
   ],
   "source": [
    "newarray = np.asarray(data,dtype=np.uint8)\n",
    "np.save(dataset_file_name,newarray)\n",
    "print('success')"
   ]
  },
  {
   "cell_type": "markdown",
   "id": "dcafd449",
   "metadata": {},
   "source": [
    "# Testing"
   ]
  },
  {
   "cell_type": "code",
   "execution_count": 28,
   "id": "66552891",
   "metadata": {},
   "outputs": [
    {
     "data": {
      "text/plain": [
       "(784,)"
      ]
     },
     "execution_count": 28,
     "metadata": {},
     "output_type": "execute_result"
    }
   ],
   "source": [
    "#Should not be greater > 784\n",
    "square = np.load(f'{dataset_file_name}.npy')\n",
    "square[0].shape"
   ]
  },
  {
   "cell_type": "markdown",
   "id": "ced9016b",
   "metadata": {},
   "source": [
    "# For data visualization"
   ]
  },
  {
   "cell_type": "code",
   "execution_count": 29,
   "id": "b04be980",
   "metadata": {},
   "outputs": [],
   "source": [
    "def visualize(flat_arr):\n",
    "    import matplotlib.pyplot as plt \n",
    "    shape = (14, 14, 4)\n",
    "    \"Visulaze a 2D array as an Image\"\n",
    "      # convert it to a matrix\n",
    "    vector = np.matrix(flat_arr)\n",
    "\n",
    "    # do something to the vector\n",
    "    vector[:,::10] = 128\n",
    "\n",
    "    # reform a numpy array of the original shape\n",
    "    arr2 = np.asarray(vector).reshape(shape)\n",
    "\n",
    "    # # make a PIL image\n",
    "    img2 = Image.fromarray(arr2, 'RGBA')\n",
    "    return(img2)"
   ]
  },
  {
   "cell_type": "code",
   "execution_count": 31,
   "id": "fa6c2884",
   "metadata": {},
   "outputs": [
    {
     "data": {
      "image/png": "[encoded data removed]",
      "text/plain": [
       "<PIL.Image.Image image mode=RGBA size=14x14 at 0x2207D0D8CA0>"
      ]
     },
     "execution_count": 31,
     "metadata": {},
     "output_type": "execute_result"
    }
   ],
   "source": [
    "visualize(square[50])"
   ]
  }
 ],
 "metadata": {
  "kernelspec": {
   "display_name": "Python 3 (ipykernel)",
   "language": "python",
   "name": "python3"
  },
  "language_info": {
   "codemirror_mode": {
    "name": "ipython",
    "version": 3
   },
   "file_extension": ".py",
   "mimetype": "text/x-python",
   "name": "python",
   "nbconvert_exporter": "python",
   "pygments_lexer": "ipython3",
   "version": "3.9.7"
  }
 },
 "nbformat": 4,
 "nbformat_minor": 5
}
