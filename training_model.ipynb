{
  "cells": [
    {
      "cell_type": "code",
      "execution_count": null,
      "metadata": {
        "colab": {
          "base_uri": "https://localhost:8080/"
        },
        "id": "h99XlHw-zleC",
        "outputId": "009055f6-cfad-4ec9-a668-9dea3f89903b"
      },
      "outputs": [
        {
          "name": "stdout",
          "output_type": "stream",
          "text": [
            "mkdir: cannot create directory ‘data’: File exists\n"
          ]
        }
      ],
      "source": [
        "mkdir data"
      ]
    },
    {
      "cell_type": "code",
      "execution_count": null,
      "metadata": {
        "id": "Fpe-AIhZniXf"
      },
      "outputs": [],
      "source": [
        "from sklearn.model_selection import train_test_split as tts\n",
        "from keras.models import Sequential\n",
        "from keras.layers import Dense, Dropout, Conv2D, MaxPooling2D, Flatten\n",
        "from keras.utils import np_utils\n",
        "from random import randint\n",
        "import numpy as np\n",
        "import os\n",
        "from PIL import Image\n",
        "import tensorflow as tf"
      ]
    },
    {
      "cell_type": "code",
      "execution_count": null,
      "metadata": {
        "id": "dMVvXUhdnxZG"
      },
      "outputs": [],
      "source": [
        "# define some constants\n",
        "N_Face_Items = 3\n",
        "Face_Parts = {0: \"nose\", 1: \"lip\",2:'nose'}\n",
        "\n",
        "# number of samples to take in each class\n",
        "N = 100\n",
        "\n",
        "# some other constants\n",
        "N_EPOCHS = 10\n",
        "\n",
        "# data files in the same order as defined in FRUITS\n",
        "files = [\"nose_bw_minist_dataset.npy\", \"lip_bw_minist_dataset.npy\",'eye_bw_minist_dataset.npy']"
      ]
    },
    {
      "cell_type": "code",
      "execution_count": null,
      "metadata": {
        "id": "2040kUlXoq8Z"
      },
      "outputs": [],
      "source": [
        "def load(dir, reshaped, files):\n",
        "    \"Load .npy or .npz files from disk and return them as numpy arrays. \\\n",
        "    Takes in a list of filenames and returns a list of numpy arrays.\"\n",
        "\n",
        "    data = []\n",
        "    for file in files:\n",
        "        f = np.load(dir + file)\n",
        "        if reshaped:\n",
        "            new_f = []\n",
        "            for i in range(len(f)):\n",
        "                x = np.reshape(f[i], (28, 28))\n",
        "                x = np.expand_dims(x, axis=0)\n",
        "                x = np.reshape(f[i], (28, 28, 1))\n",
        "                new_f.append(x)\n",
        "            f = new_f\n",
        "        data.append(f)\n",
        "    return data\n",
        "\n",
        "def single_load(file):\n",
        "  new_f = []\n",
        "  data = np.load(file)\n",
        "  x = np.reshape(data, (28, 28))\n",
        "  x = np.expand_dims(x, axis=0)\n",
        "  x = np.reshape(data, (28, 28, 1))\n",
        "  new_f.append(x)\n",
        "  return new_f\n",
        "\n",
        "\n",
        "def normalize(data):\n",
        "    \"Takes a list or a list of lists and returns its normalized form\"\n",
        "\n",
        "    return np.interp(data, [0, 255], [-1, 1])\n",
        "\n",
        "\n",
        "def denormalize(data):\n",
        "    \"Takes a list or a list of lists and returns its denormalized form\"\n",
        "\n",
        "    return np.interp(data, [-1, 1], [0, 255])\n",
        "\n",
        "\n",
        "def visualize(flat_arr):\n",
        "    import matplotlib.pyplot as plt \n",
        "    shape = (14, 14, 4)\n",
        "    \"Visulaze a 2D array as an Image\"\n",
        "      # convert it to a matrix\n",
        "    vector = np.matrix(flat_arr)\n",
        "\n",
        "    # do something to the vector\n",
        "    vector[:,::10] = 128\n",
        "\n",
        "    # reform a numpy array of the original shape\n",
        "    arr2 = np.asarray(vector).reshape(shape)\n",
        "\n",
        "\n",
        "    # # make a PIL image\n",
        "    img2 = Image.fromarray(arr2, 'RGBA')\n",
        "    # return(plt.imshow(img2))\n",
        "    return(img2)\n",
        "\n",
        "\n",
        "def set_limit(arrays, n):\n",
        "    \"Limit elements from each array up to n elements and return a single list\"\n",
        "    new = []\n",
        "    for array in arrays:\n",
        "        i = 0\n",
        "        for item in array:\n",
        "            if i == n:\n",
        "                break\n",
        "            new.append(item)\n",
        "            i += 1\n",
        "    return new\n",
        "\n",
        "\n",
        "def make_labels(N1, N2):\n",
        "    \"make labels from 0 to N1, each repeated N2 times\"\n",
        "    labels = []\n",
        "    for i in range(N1):\n",
        "        labels += [i] * N2\n",
        "    return labels\n",
        "  \n",
        "def decision(r):\n",
        "  if r == 0:\n",
        "    print(\"Hey!, it's nose\")\n",
        "  else:\n",
        "    print(\"Hey!, it's lip\")"
      ]
    },
    {
      "cell_type": "code",
      "execution_count": null,
      "metadata": {
        "id": "muRffjU7ejTQ"
      },
      "outputs": [],
      "source": [
        "# fruits = load(\"data/\", False, ['banana.npy'])\n"
      ]
    },
    {
      "cell_type": "code",
      "execution_count": null,
      "metadata": {
        "id": "r-0ihulEfRho"
      },
      "outputs": [],
      "source": [
        "# visualize(fruits[0][90])"
      ]
    },
    {
      "cell_type": "code",
      "execution_count": null,
      "metadata": {
        "id": "qarmip4PosqM"
      },
      "outputs": [],
      "source": [
        "\n",
        "#second argument is True for reshaping the image to a 28x28 form. A conv net expects this format.\n",
        "fruits = load(\"data/\", True, files)\n",
        "#second argument is False because we don't need to reshape the image. An MLP net expects this format.\n",
        "#fruits = load(\"data/\", False, files)\n",
        "\n",
        "\n",
        "# limit no of samples in each class to N\n",
        "fruits = set_limit(Face_Parts, N)\n",
        "\n",
        "# # normalize the values\n",
        "# fruits = map(normalize, fruits)\n",
        "\n",
        "# define the labels\n",
        "labels = make_labels(N_Face_Items, N)\n",
        "\n",
        "# prepare the data\n",
        "x_train, x_test, y_train, y_test = tts(Face_Parts, labels, test_size=0.05)\n",
        "\n",
        "# one hot encoding\n",
        "Y_train = np_utils.to_categorical(y_train, N_Face_Items)\n",
        "Y_test = np_utils.to_categorical(y_test, N_Face_Items)\n"
      ]
    },
    {
      "cell_type": "code",
      "execution_count": null,
      "metadata": {
        "id": "g9vv8w0GpHbJ"
      },
      "outputs": [],
      "source": [
        "model = Sequential()\n",
        "model.add(Conv2D(32, kernel_size=(3, 3), activation='relu', input_shape=(28,28,1)))\n",
        "model.add(Conv2D(64, (3, 3), activation='relu'))\n",
        "model.add(MaxPooling2D(pool_size=(2, 2)))\n",
        "model.add(Dropout(0.25))\n",
        "model.add(Flatten())\n",
        "model.add(Dense(128, activation='relu'))\n",
        "model.add(Dropout(0.5))\n",
        "model.add(Dense(N_Face_Items, activation='softmax'))"
      ]
    },
    {
      "cell_type": "code",
      "execution_count": null,
      "metadata": {
        "colab": {
          "base_uri": "https://localhost:8080/"
        },
        "id": "6x-bbPmqpM5d",
        "outputId": "cd07fc7a-b5b8-4502-b07d-72e77d7aefc4"
      },
      "outputs": [
        {
          "name": "stdout",
          "output_type": "stream",
          "text": [
            "Epoch 1/10\n",
            "9/9 [==============================] - 16s 17ms/step - loss: 67.3365 - accuracy: 0.3719\n",
            "Epoch 2/10\n",
            "9/9 [==============================] - 0s 5ms/step - loss: 4.6185 - accuracy: 0.4702\n",
            "Epoch 3/10\n",
            "9/9 [==============================] - 0s 5ms/step - loss: 0.8034 - accuracy: 0.6421\n",
            "Epoch 4/10\n",
            "9/9 [==============================] - 0s 4ms/step - loss: 0.5584 - accuracy: 0.7754\n",
            "Epoch 5/10\n",
            "9/9 [==============================] - 0s 4ms/step - loss: 0.3884 - accuracy: 0.8386\n",
            "Epoch 6/10\n",
            "9/9 [==============================] - 0s 4ms/step - loss: 0.3136 - accuracy: 0.8877\n",
            "Epoch 7/10\n",
            "9/9 [==============================] - 0s 4ms/step - loss: 0.2546 - accuracy: 0.9088\n",
            "Epoch 8/10\n",
            "9/9 [==============================] - 0s 4ms/step - loss: 0.1651 - accuracy: 0.9439\n",
            "Epoch 9/10\n",
            "9/9 [==============================] - 0s 4ms/step - loss: 0.2192 - accuracy: 0.9404\n",
            "Epoch 10/10\n",
            "9/9 [==============================] - 0s 4ms/step - loss: 0.1962 - accuracy: 0.9228\n",
            "Training complete\n",
            "Evaluating model\n",
            "Accuracy:  93.33333333333333\n",
            "Model saved\n"
          ]
        }
      ],
      "source": [
        "model.compile(loss='categorical_crossentropy',\n",
        "              optimizer='adam',\n",
        "              metrics=['accuracy'])\n",
        "\n",
        "\n",
        "# train\n",
        "model.fit(np.array(x_train), np.array(Y_train), batch_size=32, epochs=N_EPOCHS)\n",
        "\n",
        "print(\"Training complete\")\n",
        "\n",
        "print(\"Evaluating model\")\n",
        "preds = model.predict(np.array(x_test))\n",
        "\n",
        "score = 0\n",
        "for i in range(len(preds)):\n",
        "    if np.argmax(preds[i]) == y_test[i]:\n",
        "        score += 1\n",
        "\n",
        "print(\"Accuracy: \", ((score + 0.0) / len(preds)) * 100)\n",
        "\n",
        "\n",
        "model.save(\"sketching_prediction\"+ \".h5\")\n",
        "print(\"Model saved\")\n"
      ]
    },
    {
      "cell_type": "code",
      "execution_count": null,
      "metadata": {
        "id": "f_xCBmEsw5Wd"
      },
      "outputs": [],
      "source": [
        "# import pickle\n",
        "# with open('model_sketch.pkl', 'wb') as file:\n",
        "#       pickle.dump(model, file)"
      ]
    },
    {
      "cell_type": "code",
      "execution_count": null,
      "metadata": {
        "id": "xt48nJ-AsmxB"
      },
      "outputs": [],
      "source": [
        "x_test[0]"
      ]
    },
    {
      "cell_type": "code",
      "execution_count": null,
      "metadata": {
        "colab": {
          "base_uri": "https://localhost:8080/",
          "height": 34
        },
        "id": "7bH-EnlYc23n",
        "outputId": "1ba03053-cf48-4f7a-ad49-768dd998263a"
      },
      "outputs": [
        {
          "data": {
            "image/png": "[encoded data removed]",
            "text/plain": [
              "<PIL.Image.Image image mode=RGBA size=14x14 at 0x7F2A6466DF50>"
            ]
          },
          "execution_count": 12,
          "metadata": {},
          "output_type": "execute_result"
        }
      ],
      "source": [
        "visualize(x_test[0])"
      ]
    },
    {
      "cell_type": "code",
      "execution_count": null,
      "metadata": {
        "colab": {
          "base_uri": "https://localhost:8080/"
        },
        "id": "KroMiaC1dB4l",
        "outputId": "3066c896-a38d-4bee-c947-4a894d1f5f4d"
      },
      "outputs": [
        {
          "name": "stdout",
          "output_type": "stream",
          "text": [
            "Hey!, it's lip\n"
          ]
        }
      ],
      "source": [
        "preds = model.predict(np.array(x_test))\n",
        "\n",
        "result = np.argmax(preds[0])\n",
        "\n",
        "decision(result)"
      ]
    },
    {
      "cell_type": "code",
      "execution_count": null,
      "metadata": {
        "colab": {
          "base_uri": "https://localhost:8080/",
          "height": 34
        },
        "id": "MY3Q5zyzPKQs",
        "outputId": "a3e00b45-6558-4794-c2bf-a685404368f5"
      },
      "outputs": [
        {
          "data": {
            "image/png": "[encoded data removed]",
            "text/plain": [
              "<PIL.Image.Image image mode=RGBA size=14x14 at 0x7F2A6461FFD0>"
            ]
          },
          "execution_count": 14,
          "metadata": {},
          "output_type": "execute_result"
        }
      ],
      "source": [
        "visualize(x_test[1])"
      ]
    },
    {
      "cell_type": "code",
      "execution_count": null,
      "metadata": {
        "colab": {
          "base_uri": "https://localhost:8080/"
        },
        "id": "gZ0gL9-IPLAI",
        "outputId": "50f183a4-3546-4058-ccef-09cf54bedeb3"
      },
      "outputs": [
        {
          "name": "stdout",
          "output_type": "stream",
          "text": [
            "Hey!, it's lip\n"
          ]
        }
      ],
      "source": [
        "result = np.argmax(preds[1])\n",
        "\n",
        "decision(result)"
      ]
    },
    {
      "cell_type": "code",
      "execution_count": null,
      "metadata": {
        "id": "lS49JkyiPVP5"
      },
      "outputs": [],
      "source": [
        "# visualize(x_test[2])"
      ]
    },
    {
      "cell_type": "code",
      "execution_count": null,
      "metadata": {
        "id": "LJSJcUMgPWny"
      },
      "outputs": [],
      "source": [
        "# result = np.argmax(preds[2])\n",
        "# decision(result)"
      ]
    },
    {
      "cell_type": "code",
      "execution_count": null,
      "metadata": {
        "id": "YMz3P-CPP9Iv"
      },
      "outputs": [],
      "source": [
        "# visualize(x_test[3])"
      ]
    },
    {
      "cell_type": "code",
      "execution_count": null,
      "metadata": {
        "id": "wP4JbOKFP9Rr"
      },
      "outputs": [],
      "source": [
        "# result = np.argmax(preds[3])\n",
        "# decision(result)"
      ]
    },
    {
      "cell_type": "code",
      "execution_count": null,
      "metadata": {
        "id": "dRwtsfSrQMgY"
      },
      "outputs": [],
      "source": [
        "# visualize(x_test[4])"
      ]
    },
    {
      "cell_type": "code",
      "execution_count": null,
      "metadata": {
        "id": "431QjVceQe85"
      },
      "outputs": [],
      "source": [
        "# result = np.argmax(preds[4])\n",
        "# decision(result)"
      ]
    },
    {
      "cell_type": "code",
      "execution_count": null,
      "metadata": {
        "id": "bAjEULU4QMyJ"
      },
      "outputs": [],
      "source": [
        "# visualize(x_test[5])"
      ]
    },
    {
      "cell_type": "code",
      "execution_count": null,
      "metadata": {
        "id": "nal6I_hDQfcl"
      },
      "outputs": [],
      "source": [
        "# result = np.argmax(preds[5])\n",
        "# decision(result)"
      ]
    },
    {
      "cell_type": "code",
      "execution_count": null,
      "metadata": {
        "id": "txWBa8vkQM5n"
      },
      "outputs": [],
      "source": [
        "# visualize(x_test[6])"
      ]
    },
    {
      "cell_type": "code",
      "execution_count": null,
      "metadata": {
        "id": "qj72gsaTQf6j"
      },
      "outputs": [],
      "source": [
        "# result = np.argmax(preds[6])\n",
        "# decision(result)"
      ]
    },
    {
      "cell_type": "code",
      "execution_count": null,
      "metadata": {
        "id": "TD0oGbFsQNBa"
      },
      "outputs": [],
      "source": [
        "# visualize(x_test[7])"
      ]
    },
    {
      "cell_type": "code",
      "execution_count": null,
      "metadata": {
        "id": "sEhxMP14QgRv"
      },
      "outputs": [],
      "source": [
        "# result = np.argmax(preds[7])\n",
        "# decision(result)"
      ]
    },
    {
      "cell_type": "code",
      "execution_count": null,
      "metadata": {
        "id": "0QEDSVuEQNIo"
      },
      "outputs": [],
      "source": [
        "# visualize(x_test[8])"
      ]
    },
    {
      "cell_type": "code",
      "execution_count": null,
      "metadata": {
        "id": "nvTIcn7FP9hF"
      },
      "outputs": [],
      "source": [
        "# result = np.argmax(preds[8])\n",
        "# decision(result)"
      ]
    },
    {
      "cell_type": "code",
      "execution_count": null,
      "metadata": {
        "id": "EzkhzqM5x4Hb"
      },
      "outputs": [],
      "source": [
        "# conv = tf.keras.models.load_model(\"./models/Prediction_Model.h5\")"
      ]
    },
    {
      "cell_type": "code",
      "execution_count": null,
      "metadata": {
        "colab": {
          "base_uri": "https://localhost:8080/"
        },
        "id": "Wec1um8T0Qt5",
        "outputId": "ed3d6b05-7b4d-4d8d-a5e0-90b1ffe8afd4"
      },
      "outputs": [
        {
          "name": "stdout",
          "output_type": "stream",
          "text": [
            "mkdir: cannot create directory ‘test’: File exists\n"
          ]
        }
      ],
      "source": [
        "mkdir test"
      ]
    },
    {
      "cell_type": "code",
      "execution_count": null,
      "metadata": {
        "id": "MYl3Tld4GkGv"
      },
      "outputs": [],
      "source": [
        "# from PIL import Image\n",
        "# import os \n",
        "# image_number = 1\n",
        "# while os.path.isfile(f\"/content/test/{image_number}.png\"):\n",
        "#   try:\n",
        "#     img = Image.open(f\"/content/test/{image_number}.png\")\n",
        "#     newsize = (28, 28)\n",
        "#     im1 = img.resize(newsize)\n",
        "#     # Shows the image in image viewer\n",
        "#     im1.save(f\"/content/test/{(image_number)+1}.png\")\n",
        "\n",
        "#   except:\n",
        "#     print(\"Error!\")\n",
        "  \n",
        "#   finally:\n",
        "#     # os.remove(f\"/content/test/{image_number}.png\")\n",
        "#     image_number +=1"
      ]
    },
    {
      "cell_type": "code",
      "execution_count": null,
      "metadata": {
        "id": "xyzOS61QJ7j2"
      },
      "outputs": [],
      "source": [
        "\n",
        "# img = Image.open(\"/content/t/4.png\")\n",
        "# newsize = (28, 28)\n",
        "# im1 = img.resize(newsize)\n",
        "# # Shows the image in image viewer\n",
        "# im1.save(\"/content/t/40.png\")"
      ]
    },
    {
      "cell_type": "code",
      "execution_count": null,
      "metadata": {
        "colab": {
          "base_uri": "https://localhost:8080/",
          "height": 328
        },
        "id": "wXgFIUIEzGpP",
        "outputId": "f896fc66-0460-4e35-a43d-d08bb89c3a02"
      },
      "outputs": [
        {
          "ename": "OSError",
          "evalue": "ignored",
          "output_type": "error",
          "traceback": [
            "\u001b[0;31m---------------------------------------------------------------------------\u001b[0m",
            "\u001b[0;31mOSError\u001b[0m                                   Traceback (most recent call last)",
            "\u001b[0;32m<ipython-input-34-796772b0479d>\u001b[0m in \u001b[0;36m<module>\u001b[0;34m()\u001b[0m\n\u001b[1;32m      1\u001b[0m \u001b[0;32mimport\u001b[0m \u001b[0mtensorflow\u001b[0m \u001b[0;32mas\u001b[0m \u001b[0mtf\u001b[0m\u001b[0;34m\u001b[0m\u001b[0;34m\u001b[0m\u001b[0m\n\u001b[0;32m----> 2\u001b[0;31m \u001b[0mmodel\u001b[0m \u001b[0;34m=\u001b[0m \u001b[0mtf\u001b[0m\u001b[0;34m.\u001b[0m\u001b[0mkeras\u001b[0m\u001b[0;34m.\u001b[0m\u001b[0mmodels\u001b[0m\u001b[0;34m.\u001b[0m\u001b[0mload_model\u001b[0m\u001b[0;34m(\u001b[0m\u001b[0;34m\"paper_dream.h5\"\u001b[0m\u001b[0;34m)\u001b[0m\u001b[0;34m\u001b[0m\u001b[0;34m\u001b[0m\u001b[0m\n\u001b[0m",
            "\u001b[0;32m/usr/local/lib/python3.7/dist-packages/keras/utils/traceback_utils.py\u001b[0m in \u001b[0;36merror_handler\u001b[0;34m(*args, **kwargs)\u001b[0m\n\u001b[1;32m     65\u001b[0m     \u001b[0;32mexcept\u001b[0m \u001b[0mException\u001b[0m \u001b[0;32mas\u001b[0m \u001b[0me\u001b[0m\u001b[0;34m:\u001b[0m  \u001b[0;31m# pylint: disable=broad-except\u001b[0m\u001b[0;34m\u001b[0m\u001b[0;34m\u001b[0m\u001b[0m\n\u001b[1;32m     66\u001b[0m       \u001b[0mfiltered_tb\u001b[0m \u001b[0;34m=\u001b[0m \u001b[0m_process_traceback_frames\u001b[0m\u001b[0;34m(\u001b[0m\u001b[0me\u001b[0m\u001b[0;34m.\u001b[0m\u001b[0m__traceback__\u001b[0m\u001b[0;34m)\u001b[0m\u001b[0;34m\u001b[0m\u001b[0;34m\u001b[0m\u001b[0m\n\u001b[0;32m---> 67\u001b[0;31m       \u001b[0;32mraise\u001b[0m \u001b[0me\u001b[0m\u001b[0;34m.\u001b[0m\u001b[0mwith_traceback\u001b[0m\u001b[0;34m(\u001b[0m\u001b[0mfiltered_tb\u001b[0m\u001b[0;34m)\u001b[0m \u001b[0;32mfrom\u001b[0m \u001b[0;32mNone\u001b[0m\u001b[0;34m\u001b[0m\u001b[0;34m\u001b[0m\u001b[0m\n\u001b[0m\u001b[1;32m     68\u001b[0m     \u001b[0;32mfinally\u001b[0m\u001b[0;34m:\u001b[0m\u001b[0;34m\u001b[0m\u001b[0;34m\u001b[0m\u001b[0m\n\u001b[1;32m     69\u001b[0m       \u001b[0;32mdel\u001b[0m \u001b[0mfiltered_tb\u001b[0m\u001b[0;34m\u001b[0m\u001b[0;34m\u001b[0m\u001b[0m\n",
            "\u001b[0;32m/usr/local/lib/python3.7/dist-packages/keras/saving/save.py\u001b[0m in \u001b[0;36mload_model\u001b[0;34m(filepath, custom_objects, compile, options)\u001b[0m\n\u001b[1;32m    207\u001b[0m         \u001b[0;32mif\u001b[0m \u001b[0misinstance\u001b[0m\u001b[0;34m(\u001b[0m\u001b[0mfilepath\u001b[0m\u001b[0;34m,\u001b[0m \u001b[0mstr\u001b[0m\u001b[0;34m)\u001b[0m\u001b[0;34m:\u001b[0m\u001b[0;34m\u001b[0m\u001b[0;34m\u001b[0m\u001b[0m\n\u001b[1;32m    208\u001b[0m           \u001b[0;32mif\u001b[0m \u001b[0;32mnot\u001b[0m \u001b[0mtf\u001b[0m\u001b[0;34m.\u001b[0m\u001b[0mio\u001b[0m\u001b[0;34m.\u001b[0m\u001b[0mgfile\u001b[0m\u001b[0;34m.\u001b[0m\u001b[0mexists\u001b[0m\u001b[0;34m(\u001b[0m\u001b[0mfilepath\u001b[0m\u001b[0;34m)\u001b[0m\u001b[0;34m:\u001b[0m\u001b[0;34m\u001b[0m\u001b[0;34m\u001b[0m\u001b[0m\n\u001b[0;32m--> 209\u001b[0;31m             \u001b[0;32mraise\u001b[0m \u001b[0mIOError\u001b[0m\u001b[0;34m(\u001b[0m\u001b[0;34mf'No file or directory found at {filepath}'\u001b[0m\u001b[0;34m)\u001b[0m\u001b[0;34m\u001b[0m\u001b[0;34m\u001b[0m\u001b[0m\n\u001b[0m\u001b[1;32m    210\u001b[0m           \u001b[0;32mif\u001b[0m \u001b[0msaving_utils\u001b[0m\u001b[0;34m.\u001b[0m\u001b[0mis_hdf5_filepath\u001b[0m\u001b[0;34m(\u001b[0m\u001b[0mfilepath\u001b[0m\u001b[0;34m)\u001b[0m \u001b[0;32mand\u001b[0m \u001b[0mh5py\u001b[0m \u001b[0;32mis\u001b[0m \u001b[0;32mNone\u001b[0m\u001b[0;34m:\u001b[0m\u001b[0;34m\u001b[0m\u001b[0;34m\u001b[0m\u001b[0m\n\u001b[1;32m    211\u001b[0m             raise ImportError(\n",
            "\u001b[0;31mOSError\u001b[0m: No file or directory found at paper_dream.h5"
          ]
        }
      ],
      "source": [
        "import tensorflow as tf\n",
        "model = tf.keras.models.load_model(\"paper_dream.h5\")"
      ]
    },
    {
      "cell_type": "code",
      "execution_count": null,
      "metadata": {
        "colab": {
          "base_uri": "https://localhost:8080/",
          "height": 1000
        },
        "id": "6AScd68xz5Jk",
        "outputId": "4f49d13f-009e-4239-87cb-97dfcbc536f0"
      },
      "outputs": [
        {
          "name": "stdout",
          "output_type": "stream",
          "text": [
            "[0.99775153, 0.0022024584, 4.6006186e-05]\n",
            "The image is a nose\n"
          ]
        },
        {
          "data": {
            "image/png": "[encoded data removed]",
            "text/plain": [
              "<Figure size 432x288 with 1 Axes>"
            ]
          },
          "metadata": {
            "needs_background": "light"
          },
          "output_type": "display_data"
        },
        {
          "name": "stdout",
          "output_type": "stream",
          "text": [
            "[4.912961e-06, 0.30663657, 0.6933585]\n",
            "The image is a eye\n"
          ]
        },
        {
          "data": {
            "image/png": "[encoded data removed]",
            "text/plain": [
              "<Figure size 432x288 with 1 Axes>"
            ]
          },
          "metadata": {
            "needs_background": "light"
          },
          "output_type": "display_data"
        },
        {
          "name": "stdout",
          "output_type": "stream",
          "text": [
            "[2.6583756e-08, 0.0046972176, 0.9953028]\n",
            "The image is a eye\n"
          ]
        },
        {
          "data": {
            "image/png": "[encoded data removed]",
            "text/plain": [
              "<Figure size 432x288 with 1 Axes>"
            ]
          },
          "metadata": {
            "needs_background": "light"
          },
          "output_type": "display_data"
        },
        {
          "name": "stdout",
          "output_type": "stream",
          "text": [
            "[1.9371708e-05, 0.05006577, 0.9499149]\n",
            "The image is a eye\n"
          ]
        },
        {
          "data": {
            "image/png": "[encoded data removed]",
            "text/plain": [
              "<Figure size 432x288 with 1 Axes>"
            ]
          },
          "metadata": {
            "needs_background": "light"
          },
          "output_type": "display_data"
        },
        {
          "name": "stdout",
          "output_type": "stream",
          "text": [
            "[1.9910933e-06, 0.7211553, 0.27884275]\n",
            "The image is a lip\n"
          ]
        },
        {
          "data": {
            "image/png": "[encoded data removed]",
            "text/plain": [
              "<Figure size 432x288 with 1 Axes>"
            ]
          },
          "metadata": {
            "needs_background": "light"
          },
          "output_type": "display_data"
        },
        {
          "name": "stdout",
          "output_type": "stream",
          "text": [
            "[7.712044e-09, 0.0024133897, 0.9975866]\n",
            "The image is a eye\n"
          ]
        },
        {
          "data": {
            "image/png": "[encoded data removed]",
            "text/plain": [
              "<Figure size 432x288 with 1 Axes>"
            ]
          },
          "metadata": {
            "needs_background": "light"
          },
          "output_type": "display_data"
        },
        {
          "name": "stdout",
          "output_type": "stream",
          "text": [
            "[7.86261e-06, 0.93544126, 0.0645508]\n",
            "The image is a lip\n"
          ]
        },
        {
          "data": {
            "image/png": "[encoded data removed]",
            "text/plain": [
              "<Figure size 432x288 with 1 Axes>"
            ]
          },
          "metadata": {
            "needs_background": "light"
          },
          "output_type": "display_data"
        }
      ],
      "source": [
        "import cv2\n",
        "import os\n",
        "import numpy as np\n",
        "import matplotlib.pyplot as plt\n",
        "image_number = 1\n",
        "FRUITS = {0: \"nose\", 1: \"lip\",2:'eye'}\n",
        "while os.path.isfile(f\"/content/test/{image_number}.png\"):\n",
        "  try:\n",
        "    img = cv2.imread(f\"/content/test/{image_number}.png\")[:,:,0]\n",
        "    img = np.invert(np.array([img]))\n",
        "    prediction = model.predict(img)\n",
        "    # val = normalize(prediction)\n",
        "    print(list(prediction[0]))\n",
        "\n",
        "    print(f\"The image is a {FRUITS[np.argmax(prediction)]}\")\n",
        "    plt.imshow(img[0],cmap=plt.cm.binary)\n",
        "    plt.show()\n",
        "  except:\n",
        "    print(\"Error!\")\n",
        "  \n",
        "  finally:\n",
        "    image_number +=1\n"
      ]
    },
    {
      "cell_type": "code",
      "execution_count": null,
      "metadata": {
        "id": "a2DShXIx0cr9"
      },
      "outputs": [],
      "source": [
        "import tensorflow\n",
        "print(tensorflow.__version__)"
      ]
    }
  ],
  "metadata": {
    "accelerator": "GPU",
    "colab": {
      "collapsed_sections": [],
      "name": "Sketching.ipynb",
      "provenance": []
    },
    "kernelspec": {
      "display_name": "Python 3",
      "name": "python3"
    },
    "language_info": {
      "name": "python"
    }
  },
  "nbformat": 4,
  "nbformat_minor": 0
}
